{
  "nbformat": 4,
  "nbformat_minor": 0,
  "metadata": {
    "colab": {
      "provenance": [],
      "authorship_tag": "ABX9TyM3wVcQEeLrkbgH9gcJ2e4U",
      "include_colab_link": true
    },
    "kernelspec": {
      "name": "python3",
      "display_name": "Python 3"
    },
    "language_info": {
      "name": "python"
    }
  },
  "cells": [
    {
      "cell_type": "markdown",
      "metadata": {
        "id": "view-in-github",
        "colab_type": "text"
      },
      "source": [
        "<a href=\"https://colab.research.google.com/github/jeonj9/project1/blob/main/%EC%9B%B9_%EC%8A%A4%ED%81%AC%EB%9E%98%ED%95%91_%EC%82%AC%EC%9A%A9%ED%95%98%EA%B8%B02.ipynb\" target=\"_parent\"><img src=\"https://colab.research.google.com/assets/colab-badge.svg\" alt=\"Open In Colab\"/></a>"
      ]
    },
    {
      "cell_type": "code",
      "execution_count": 16,
      "metadata": {
        "id": "cQt_TKK030qE"
      },
      "outputs": [],
      "source": [
        "import requests\n",
        "isbn = '9791190090018'\n",
        "url = 'https://www.yes24.com/Product/Search?domain=B00K&query={}'\n",
        "r = requests.get(url.format(isbn))"
      ]
    },
    {
      "cell_type": "code",
      "source": [
        "print(r.text)"
      ],
      "metadata": {
        "id": "0X407TI84op8"
      },
      "execution_count": null,
      "outputs": []
    },
    {
      "cell_type": "code",
      "source": [
        "from bs4 import BeautifulSoup\n",
        "soup = BeautifulSoup(r.text, 'html.parser')"
      ],
      "metadata": {
        "id": "oYbW_AsG5LWO"
      },
      "execution_count": 18,
      "outputs": []
    },
    {
      "cell_type": "code",
      "source": [
        "# 위 검색 결과의 도서 가져오기\n",
        "prd_link = soup.find('a', attrs = {'class':'gd_name'})\n",
        "print(prd_link)"
      ],
      "metadata": {
        "colab": {
          "base_uri": "https://localhost:8080/"
        },
        "id": "YfyQE8X35fnd",
        "outputId": "8b39a63b-7b4c-454f-d2f7-551e2e954e56"
      },
      "execution_count": 19,
      "outputs": [
        {
          "output_type": "stream",
          "name": "stdout",
          "text": [
            "<a class=\"gd_name\" href=\"/Product/Goods/74261416\" onclick=\"wiseLogV2('S', '101_005_003_001', ''); setGoodsClickExtraCodeHub('032', '9791190090018', '74261416', '0');\">우리가 빛의 속도로 갈 수 없다면</a>\n"
          ]
        }
      ]
    },
    {
      "cell_type": "code",
      "source": [
        "print(prd_link['href'])"
      ],
      "metadata": {
        "colab": {
          "base_uri": "https://localhost:8080/"
        },
        "id": "Ixar85jp6zcj",
        "outputId": "15d44f1c-d263-4eff-9090-a973c5e7dc9b"
      },
      "execution_count": 20,
      "outputs": [
        {
          "output_type": "stream",
          "name": "stdout",
          "text": [
            "/Product/Goods/74261416\n"
          ]
        }
      ]
    },
    {
      "cell_type": "code",
      "source": [
        "url = 'https://www.yes24.com'+prd_link['href']\n",
        "r = requests.get(url)"
      ],
      "metadata": {
        "id": "gG5SafzR67ex"
      },
      "execution_count": 21,
      "outputs": []
    },
    {
      "cell_type": "code",
      "source": [
        "print(r.text)"
      ],
      "metadata": {
        "id": "xcxgQ9pC7R2B"
      },
      "execution_count": null,
      "outputs": []
    },
    {
      "cell_type": "code",
      "source": [
        "soup = BeautifulSoup(r.text, 'html.parser') #상세 페이지의 파싱\n",
        "pro_detail = soup.find('div', attrs = {'id':'infoset_specific'})\n",
        "#pro_detail_2 = soup.find('table', attrs = {'class':'tb_nor tb_vertical'})\n",
        "print(pro_detail)\n"
      ],
      "metadata": {
        "id": "4yJA1MJ77hbn"
      },
      "execution_count": null,
      "outputs": []
    },
    {
      "cell_type": "code",
      "source": [
        "prd_tr_list = pro_detail.find_all('tr')\n",
        "print(prd_tr_list)"
      ],
      "metadata": {
        "id": "E5A1hy_k-C6m"
      },
      "execution_count": null,
      "outputs": []
    },
    {
      "cell_type": "code",
      "source": [
        "#  쪽, 무게, 크기 가져오기\n",
        "for tr in prd_tr_list:\n",
        "  if tr.find('th').get_text() == '쪽수, 무게, 크기':\n",
        "    page_td = tr.find('td').get_text()\n",
        "    break"
      ],
      "metadata": {
        "id": "1mmpgeVu_MhK"
      },
      "execution_count": 31,
      "outputs": []
    },
    {
      "cell_type": "code",
      "source": [
        "print(page_td)"
      ],
      "metadata": {
        "colab": {
          "base_uri": "https://localhost:8080/"
        },
        "id": "KCTzwELLBVHk",
        "outputId": "0410def1-f8e6-4d4c-9e13-1ec12f0151fc"
      },
      "execution_count": 32,
      "outputs": [
        {
          "output_type": "stream",
          "name": "stdout",
          "text": [
            "330쪽 | 496g | 130*198*30mm\n"
          ]
        }
      ]
    },
    {
      "cell_type": "code",
      "source": [
        "print(page_td.split()[0])"
      ],
      "metadata": {
        "colab": {
          "base_uri": "https://localhost:8080/"
        },
        "id": "7eYCAFZ8BZeD",
        "outputId": "115aa38e-45a5-4044-f5b5-901634004337"
      },
      "execution_count": 33,
      "outputs": [
        {
          "output_type": "stream",
          "name": "stdout",
          "text": [
            "330쪽\n"
          ]
        }
      ]
    },
    {
      "cell_type": "code",
      "source": [
        "### 위의 코드를 사용자 정의 함수로 만들기\n",
        "\n",
        "def get_page_cnt(isbn):\n",
        "  url = 'https://www.yes24.com/Product/Search?domain=BOOK&query={}'\n",
        "\n",
        "  #URL에 isbn을 넣어 HTML 가져옴\n",
        "  r = requests.get(url.format(isbn))\n",
        "  soup = BeautifulSoup(r.text, 'html.parser')\n",
        "\n",
        "  # 검색 결과에서 해당 도서 선택\n",
        "  prd_info = soup.find('a', attrs = {'class': 'gd_name'})\n",
        "\n",
        "  #도서 상세 페이지 가져오기\n",
        "  url = 'http://www.yes24.com'+prd_info['href']\n",
        "  r = requests.get(url)\n",
        "  soup = BeautifulSoup(r.text, 'html.parser')\n",
        "\n",
        "  # 품목 정보 <div>를 선택\n",
        "  prd_detail = soup.find('div', attrs = {'id': 'infoset_specific'})\n",
        "\n",
        "  #테이블에 있는 <tr> 태그 가져오기\n",
        "  prd_tr_list = prd_detail.find_all('tr')\n",
        "\n",
        "  #쪽수가 들어 있는 <th>를 찾아 <td>에 담긴 값을 반환\n",
        "  for tr in prd_tr_list:\n",
        "    if tr.find('th').get_text() == '쪽수, 무게, 크기':\n",
        "      return tr.find('td').get_text().split()[0]\n",
        "  return ''\n",
        "\n",
        "#일일히 칠 필요 없다는 사실... 잊지 말기"
      ],
      "metadata": {
        "id": "esAbH6QrBqB7"
      },
      "execution_count": 44,
      "outputs": []
    },
    {
      "cell_type": "code",
      "source": [
        "get_page_cnt(9791190090018)"
      ],
      "metadata": {
        "colab": {
          "base_uri": "https://localhost:8080/",
          "height": 35
        },
        "id": "XB4_vhPqEKYo",
        "outputId": "447a5d77-c487-4cac-dccf-d9430a633299"
      },
      "execution_count": 45,
      "outputs": [
        {
          "output_type": "execute_result",
          "data": {
            "text/plain": [
              "'330쪽'"
            ],
            "application/vnd.google.colaboratory.intrinsic+json": {
              "type": "string"
            }
          },
          "metadata": {},
          "execution_count": 45
        }
      ]
    }
  ]
}